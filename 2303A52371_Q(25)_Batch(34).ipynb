{
  "nbformat": 4,
  "nbformat_minor": 0,
  "metadata": {
    "colab": {
      "provenance": [],
      "include_colab_link": true
    },
    "kernelspec": {
      "name": "python3",
      "display_name": "Python 3"
    },
    "language_info": {
      "name": "python"
    }
  },
  "cells": [
    {
      "cell_type": "markdown",
      "metadata": {
        "id": "view-in-github",
        "colab_type": "text"
      },
      "source": [
        "<a href=\"https://colab.research.google.com/github/2303a52371/AIML_2303a52371/blob/main/2303A52371_Q(25)_Batch(34).ipynb\" target=\"_parent\"><img src=\"https://colab.research.google.com/assets/colab-badge.svg\" alt=\"Open In Colab\"/></a>"
      ]
    },
    {
      "cell_type": "code",
      "execution_count": null,
      "metadata": {
        "id": "IrL8rb1hmtCp"
      },
      "outputs": [],
      "source": [
        "import pandas as pd\n",
        "from sklearn.cluster import KMeans\n",
        "from sklearn.preprocessing import StandardScaler\n",
        "\n",
        "file_path = '/content/buddymove_holidayiq.csv'\n",
        "data = pd.read_csv(file_path)"
      ]
    },
    {
      "cell_type": "code",
      "source": [
        "attribute_means = data.drop(columns=['User Id']).mean().sort_values(ascending=False)\n",
        "\n",
        "top_5_attributes = attribute_means.head(5)\n",
        "print(\"Top 5 Attributes for South India Destinations:\")\n",
        "print(top_5_attributes)"
      ],
      "metadata": {
        "colab": {
          "base_uri": "https://localhost:8080/"
        },
        "id": "WELqUmPAoA37",
        "outputId": "9f7c2331-44fe-4164-e381-25cdfe78fd13"
      },
      "execution_count": null,
      "outputs": [
        {
          "output_type": "stream",
          "name": "stdout",
          "text": [
            "Top 5 Attributes for South India Destinations:\n",
            "Nature       124.518072\n",
            "Picnic       120.401606\n",
            "Theatre      116.377510\n",
            "Shopping     112.638554\n",
            "Religious    109.779116\n",
            "dtype: float64\n"
          ]
        }
      ]
    },
    {
      "cell_type": "code",
      "source": [
        "most_liked_attribute = attribute_means.idxmax(), attribute_means.max()\n",
        "print(\"\\nAttribute with Most Liked Travel Spots:\", most_liked_attribute)"
      ],
      "metadata": {
        "colab": {
          "base_uri": "https://localhost:8080/"
        },
        "id": "svClzFcMoFnq",
        "outputId": "b530d7fd-b0af-4e39-f92a-79b7d761059e"
      },
      "execution_count": null,
      "outputs": [
        {
          "output_type": "stream",
          "name": "stdout",
          "text": [
            "\n",
            "Attribute with Most Liked Travel Spots: ('Nature', 124.51807228915662)\n"
          ]
        }
      ]
    },
    {
      "cell_type": "code",
      "source": [
        "max_attribute = attribute_means.idxmax(), attribute_means.max()\n",
        "min_attribute = attribute_means.idxmin(), attribute_means.min()\n",
        "\n",
        "print(\"\\nMaximum Attribute of Choice:\", max_attribute)\n",
        "print(\"Minimum Attribute of Choice:\", min_attribute)"
      ],
      "metadata": {
        "colab": {
          "base_uri": "https://localhost:8080/"
        },
        "id": "dekJBHqToJDu",
        "outputId": "6c82acfd-12bf-4c31-d827-4fe4e1650474"
      },
      "execution_count": null,
      "outputs": [
        {
          "output_type": "stream",
          "name": "stdout",
          "text": [
            "\n",
            "Maximum Attribute of Choice: ('Nature', 124.51807228915662)\n",
            "Minimum Attribute of Choice: ('Sports', 11.987951807228916)\n"
          ]
        }
      ]
    },
    {
      "cell_type": "code",
      "source": [
        "role_analysis = data[['Nature', 'Picnic', 'Theatre', 'Shopping']].mean()\n",
        "\n",
        "print(\"\\nRole Analysis for Beaches, Theatres, Malls, and Parks:\")\n",
        "print(role_analysis)"
      ],
      "metadata": {
        "colab": {
          "base_uri": "https://localhost:8080/"
        },
        "id": "lSh1yjaDoLT6",
        "outputId": "f5058e99-feca-4f70-e2d3-cf2af15841df"
      },
      "execution_count": null,
      "outputs": [
        {
          "output_type": "stream",
          "name": "stdout",
          "text": [
            "\n",
            "Role Analysis for Beaches, Theatres, Malls, and Parks:\n",
            "Nature      124.518072\n",
            "Picnic      120.401606\n",
            "Theatre     116.377510\n",
            "Shopping    112.638554\n",
            "dtype: float64\n"
          ]
        }
      ]
    },
    {
      "cell_type": "code",
      "source": [
        "sports_attribute_mean = data['Sports'].mean()\n",
        "print(\"\\nSports Attribute Mean Rating:\", sports_attribute_mean)"
      ],
      "metadata": {
        "colab": {
          "base_uri": "https://localhost:8080/"
        },
        "id": "0hhnbu1foOcy",
        "outputId": "4046b5d9-e4d9-41c9-b1b7-d43db9a29c6e"
      },
      "execution_count": null,
      "outputs": [
        {
          "output_type": "stream",
          "name": "stdout",
          "text": [
            "\n",
            "Sports Attribute Mean Rating: 11.987951807228916\n"
          ]
        }
      ]
    },
    {
      "source": [
        "features = ['Nature', 'Picnic', 'Theatre']\n",
        "X = data[features]\n",
        "\n",
        "scaler = StandardScaler()\n",
        "X_scaled = scaler.fit_transform(X)\n",
        "\n",
        "kmeans = KMeans(n_clusters=3, random_state=42)\n",
        "clusters = kmeans.fit_predict(X_scaled)"
      ],
      "cell_type": "code",
      "metadata": {
        "id": "O85n_RauvkDq"
      },
      "execution_count": null,
      "outputs": []
    },
    {
      "cell_type": "code",
      "source": [
        "X = data.drop(columns=['User Id'])\n",
        "scaler = StandardScaler()\n",
        "X_scaled = scaler.fit_transform(X)"
      ],
      "metadata": {
        "id": "-kLIhRhCoYyC"
      },
      "execution_count": null,
      "outputs": []
    },
    {
      "cell_type": "code",
      "source": [
        "kmeans = KMeans(n_clusters=3, random_state=42)\n",
        "clusters = kmeans.fit_predict(X_scaled)\n",
        "\n",
        "data['Cluster'] = clusters\n",
        "\n",
        "print(\"\\nCluster Distribution:\")\n",
        "print(data['Cluster'].value_counts())"
      ],
      "metadata": {
        "colab": {
          "base_uri": "https://localhost:8080/"
        },
        "id": "yPdE6MTxpeYt",
        "outputId": "44137829-26fb-41bb-cbcd-f4634ac0cfa2"
      },
      "execution_count": null,
      "outputs": [
        {
          "output_type": "stream",
          "name": "stdout",
          "text": [
            "\n",
            "Cluster Distribution:\n",
            "Cluster\n",
            "2    114\n",
            "0     79\n",
            "1     56\n",
            "Name: count, dtype: int64\n"
          ]
        }
      ]
    }
  ]
}